{
 "cells": [
  {
   "cell_type": "code",
   "execution_count": 4,
   "metadata": {},
   "outputs": [],
   "source": [
    "##Time Complexity: O(n) Time\n",
    "##Space Complexity: O(1) Space, where n is the length of the input array\n",
    "def kadanesAlgorithm(array):\n",
    "    maxSumEndsHere = array[0]\n",
    "    maxSumSoFar = array[0]\n",
    "    for i in range(1,len(array)):\n",
    "        num = array[i]\n",
    "        maxSumEndsHere = max(num, maxSumEndsHere + num)\n",
    "        maxSumSoFar = max(maxSumSoFar, maxSumEndsHere)\n",
    "    return maxSumSoFar"
   ]
  },
  {
   "cell_type": "code",
   "execution_count": 5,
   "metadata": {},
   "outputs": [
    {
     "name": "stdout",
     "output_type": "stream",
     "text": [
      "35\n"
     ]
    }
   ],
   "source": [
    "print(kadanesAlgorithm([1, 2, 3, 4, 5, 6, -20, 7, 8, 9, 10]))"
   ]
  },
  {
   "cell_type": "code",
   "execution_count": null,
   "metadata": {},
   "outputs": [],
   "source": []
  }
 ],
 "metadata": {
  "kernelspec": {
   "display_name": "Python 3",
   "language": "python",
   "name": "python3"
  },
  "language_info": {
   "codemirror_mode": {
    "name": "ipython",
    "version": 3
   },
   "file_extension": ".py",
   "mimetype": "text/x-python",
   "name": "python",
   "nbconvert_exporter": "python",
   "pygments_lexer": "ipython3",
   "version": "3.7.4"
  }
 },
 "nbformat": 4,
 "nbformat_minor": 2
}

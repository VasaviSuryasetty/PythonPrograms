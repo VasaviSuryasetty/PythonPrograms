{
 "cells": [
  {
   "cell_type": "code",
   "execution_count": 3,
   "metadata": {},
   "outputs": [],
   "source": [
    "##Time Complexity: O(nm) Time\n",
    "##Space Complexity: O(nm) Space, where n and m are the lengths of string1 and string2 respectvely\n",
    "def levenshteinDistance(str1,str2):\n",
    "    edits = [[x for x in range(len(str1) + 1)] for y in range(len(str2) + 1)]\n",
    "    for i in range(1,len(str2) + 1):\n",
    "        edits[i][0] = edits[i - 1][0] + 1\n",
    "    for i in range(1,len(str2) + 1):\n",
    "        for j in range(1, len(str1) + 1):\n",
    "            if str2[i - 1] == str1[j - 1]:\n",
    "                edits[i][j] = edits[i - 1][j - 1]\n",
    "            else:\n",
    "                edits[i][j] = 1 + min(edits[i-1][j-1], edits[i-1][j], edits[i][j-1])\n",
    "    return edits[-1][-1]"
   ]
  },
  {
   "cell_type": "code",
   "execution_count": 4,
   "metadata": {},
   "outputs": [
    {
     "name": "stdout",
     "output_type": "stream",
     "text": [
      "2\n"
     ]
    }
   ],
   "source": [
    "print(levenshteinDistance(\"abd\", \"yabc\"))"
   ]
  },
  {
   "cell_type": "code",
   "execution_count": 8,
   "metadata": {},
   "outputs": [],
   "source": [
    "##Time Complexity: O(nm) Time\n",
    "##Space Complexity: O(min(n,m)) Space, where n and m are the lengths of string1 and string2 respectvely\n",
    "def levenshteinDistance1(str1,str2):\n",
    "    smallString = str1 if len(str1) < len(str2) else str2\n",
    "    bigString = str1 if len(str1) >= len(str2) else str2\n",
    "    evenEdits = [x for x in range(len(smallString) + 1)]\n",
    "    oddEdits = [None for x in range(len(smallString) + 1)]\n",
    "    for i in range(1, len(bigString) + 1):\n",
    "        if i % 2 == 1:\n",
    "            currentEdits = oddEdits\n",
    "            previousEdits = evenEdits\n",
    "        else:\n",
    "            currentEdits = evenEdits\n",
    "            previousEdits = oddEdits\n",
    "        currentEdits[0] = i\n",
    "        for j in range(1, len(smallString) + 1):\n",
    "            if bigString[i - 1] == smallString[j - 1]:\n",
    "                currentEdits[j] = previousEdits[j - 1]\n",
    "            else:\n",
    "                currentEdits[j] = 1 + min(previousEdits[j], previousEdits[j - 1], currentEdits[j - 1])\n",
    "    return evenEdits[-1] if len(bigString) % 2 == 0 else oddEdits[-1]\n",
    "    \n",
    "    "
   ]
  },
  {
   "cell_type": "code",
   "execution_count": 9,
   "metadata": {},
   "outputs": [
    {
     "name": "stdout",
     "output_type": "stream",
     "text": [
      "2\n"
     ]
    }
   ],
   "source": [
    "print(levenshteinDistance(\"abcv\",\"abcde\"))"
   ]
  },
  {
   "cell_type": "code",
   "execution_count": null,
   "metadata": {},
   "outputs": [],
   "source": []
  }
 ],
 "metadata": {
  "kernelspec": {
   "display_name": "Python 3",
   "language": "python",
   "name": "python3"
  },
  "language_info": {
   "codemirror_mode": {
    "name": "ipython",
    "version": 3
   },
   "file_extension": ".py",
   "mimetype": "text/x-python",
   "name": "python",
   "nbconvert_exporter": "python",
   "pygments_lexer": "ipython3",
   "version": "3.7.4"
  }
 },
 "nbformat": 4,
 "nbformat_minor": 2
}

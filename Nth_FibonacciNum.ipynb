{
 "cells": [
  {
   "cell_type": "code",
   "execution_count": 5,
   "metadata": {},
   "outputs": [],
   "source": [
    "def fib(n):\n",
    "    if(n==0):\n",
    "        return 0\n",
    "    elif(n==1):\n",
    "        return 1\n",
    "    else:\n",
    "        return fib(n-2)+fib(n-1)\n",
    "    "
   ]
  },
  {
   "cell_type": "code",
   "execution_count": 13,
   "metadata": {},
   "outputs": [
    {
     "name": "stdout",
     "output_type": "stream",
     "text": [
      "Enter a number:6\n",
      "0\n",
      "1\n",
      "1\n",
      "2\n",
      "3\n",
      "5\n",
      "6Th fibonacci number is:5\n"
     ]
    }
   ],
   "source": [
    "num = input(\"Enter a number:\")\n",
    "fibnum = fib(int(num)-1)\n",
    "for i in range(int(num)):\n",
    "    print(fib(i))\n",
    "print(\"{}Th fibonacci number is:{}\".format(num,fibnum))"
   ]
  }
 ],
 "metadata": {
  "kernelspec": {
   "display_name": "Python 3",
   "language": "python",
   "name": "python3"
  },
  "language_info": {
   "codemirror_mode": {
    "name": "ipython",
    "version": 3
   },
   "file_extension": ".py",
   "mimetype": "text/x-python",
   "name": "python",
   "nbconvert_exporter": "python",
   "pygments_lexer": "ipython3",
   "version": "3.6.5"
  }
 },
 "nbformat": 4,
 "nbformat_minor": 2
}

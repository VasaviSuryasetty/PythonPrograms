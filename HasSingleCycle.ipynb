{
 "cells": [
  {
   "cell_type": "code",
   "execution_count": 2,
   "metadata": {},
   "outputs": [],
   "source": [
    "##Time Complexity: O(n) Time\n",
    "##Space Complexity: O(1) Space, where n is the length of the input array\n",
    "def hasSingleCycle(array):\n",
    "    numOfElementsVisited = 0\n",
    "    currentIndex = 0\n",
    "    while numOfElementsVisited < len(array):\n",
    "        if numOfElementsVisited > 0 and currentIndex == 0:\n",
    "            return False\n",
    "        numOfElementsVisited += 1\n",
    "        currentIndex = getNextIndex(currentIndex, array)\n",
    "    return currentIndex == 0\n",
    "\n",
    "def getNextIndex(currentIndex, array):\n",
    "    jump = array[currentIndex]\n",
    "    nextIndex = (currentIndex + jump) % len(array)\n",
    "    return nextIndex if nextIndex >= 0 else nextIndex + len(array)"
   ]
  },
  {
   "cell_type": "code",
   "execution_count": 4,
   "metadata": {},
   "outputs": [
    {
     "name": "stdout",
     "output_type": "stream",
     "text": [
      "True\n"
     ]
    }
   ],
   "source": [
    "print(hasSingleCycle([1, 1, 1, 1, 1]))"
   ]
  },
  {
   "cell_type": "code",
   "execution_count": 5,
   "metadata": {},
   "outputs": [
    {
     "name": "stdout",
     "output_type": "stream",
     "text": [
      "False\n"
     ]
    }
   ],
   "source": [
    "print(hasSingleCycle([1, -1, 1, -1]))"
   ]
  },
  {
   "cell_type": "code",
   "execution_count": null,
   "metadata": {},
   "outputs": [],
   "source": []
  }
 ],
 "metadata": {
  "kernelspec": {
   "display_name": "Python 3",
   "language": "python",
   "name": "python3"
  },
  "language_info": {
   "codemirror_mode": {
    "name": "ipython",
    "version": 3
   },
   "file_extension": ".py",
   "mimetype": "text/x-python",
   "name": "python",
   "nbconvert_exporter": "python",
   "pygments_lexer": "ipython3",
   "version": "3.7.4"
  }
 },
 "nbformat": 4,
 "nbformat_minor": 2
}

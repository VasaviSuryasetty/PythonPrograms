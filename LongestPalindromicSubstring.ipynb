{
 "cells": [
  {
   "cell_type": "code",
   "execution_count": 18,
   "metadata": {},
   "outputs": [],
   "source": [
    "##Time Complexity: O(n^) Time\n",
    "##Space Complexity: O(1) Space\n",
    "def longestPalindromicSubstring(string):\n",
    "    longest = \"\"\n",
    "    for i in range(len(string)):\n",
    "        for j in range(i,len(string)):\n",
    "            subString = string[i : j+1]\n",
    "            if len(subString) > len(longest) and isPalindrome(subString):\n",
    "                longest = subString\n",
    "    return longest\n",
    "\n",
    "def isPalindrome(string):\n",
    "    if string == string[::-1]:\n",
    "        return True\n",
    "    return False"
   ]
  },
  {
   "cell_type": "code",
   "execution_count": 24,
   "metadata": {},
   "outputs": [
    {
     "name": "stdout",
     "output_type": "stream",
     "text": [
      "noon\n"
     ]
    }
   ],
   "source": [
    "print(longestPalindromicSubstring(\"Its a noon\"))"
   ]
  },
  {
   "cell_type": "code",
   "execution_count": 23,
   "metadata": {},
   "outputs": [],
   "source": [
    "##Time Complexity: O(n^2) Time\n",
    "##Space Complexity: O(1) Space\n",
    "def longestPalindromicSubstring1(string):\n",
    "    currentLongest = [0,1]\n",
    "    for i in range(1,len(string)):\n",
    "        odd = getLongestPalindromeFrom(string,i-1,i+1)\n",
    "        even = getLongestPalindromeFrom(string,i-1,i)\n",
    "        longestStr = max(odd,even, key = lambda x: x[1] - x[0])\n",
    "        currentLongest = max(longestStr,currentLongest, key = lambda x: x[1] - x[0])\n",
    "    return string[currentLongest[0] : currentLongest[1]]\n",
    "\n",
    "def getLongestPalindromeFrom(string,leftIndex, rightIndex):\n",
    "    while leftIndex >= 0 and rightIndex < len(string):\n",
    "        if string[leftIndex] != string[rightIndex] :\n",
    "            break\n",
    "        leftIndex -= 1\n",
    "        rightIndex += 1\n",
    "    return [leftIndex+1, rightIndex]"
   ]
  },
  {
   "cell_type": "code",
   "execution_count": 25,
   "metadata": {},
   "outputs": [
    {
     "name": "stdout",
     "output_type": "stream",
     "text": [
      " madam \n"
     ]
    }
   ],
   "source": [
    "print(longestPalindromicSubstring1(\"My madam is very cute\"))"
   ]
  },
  {
   "cell_type": "code",
   "execution_count": null,
   "metadata": {},
   "outputs": [],
   "source": []
  }
 ],
 "metadata": {
  "kernelspec": {
   "display_name": "Python 3",
   "language": "python",
   "name": "python3"
  },
  "language_info": {
   "codemirror_mode": {
    "name": "ipython",
    "version": 3
   },
   "file_extension": ".py",
   "mimetype": "text/x-python",
   "name": "python",
   "nbconvert_exporter": "python",
   "pygments_lexer": "ipython3",
   "version": "3.7.4"
  }
 },
 "nbformat": 4,
 "nbformat_minor": 2
}

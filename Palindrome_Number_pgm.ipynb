{
 "cells": [
  {
   "cell_type": "code",
   "execution_count": 3,
   "metadata": {},
   "outputs": [],
   "source": [
    "def is_palindrome(N):\n",
    "    number = str(N)\n",
    "    revnum = number[::-1]\n",
    "    if(number == revnum):\n",
    "        return True "
   ]
  },
  {
   "cell_type": "code",
   "execution_count": 5,
   "metadata": {},
   "outputs": [
    {
     "name": "stdout",
     "output_type": "stream",
     "text": [
      "Enter a number to check for palindrome:234\n",
      "234 is not a palindrome\n"
     ]
    }
   ],
   "source": [
    "num = input(\"Enter a number to check for palindrome:\")\n",
    "if(is_palindrome(num)):\n",
    "    print(\"{} is a plaindrome\".format(num))\n",
    "else:\n",
    "    print(\"{} is not a palindrome\".format(num))"
   ]
  }
 ],
 "metadata": {
  "kernelspec": {
   "display_name": "Python 3",
   "language": "python",
   "name": "python3"
  },
  "language_info": {
   "codemirror_mode": {
    "name": "ipython",
    "version": 3
   },
   "file_extension": ".py",
   "mimetype": "text/x-python",
   "name": "python",
   "nbconvert_exporter": "python",
   "pygments_lexer": "ipython3",
   "version": "3.6.5"
  }
 },
 "nbformat": 4,
 "nbformat_minor": 2
}

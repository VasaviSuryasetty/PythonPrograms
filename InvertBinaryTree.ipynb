{
 "cells": [
  {
   "cell_type": "code",
   "execution_count": 1,
   "metadata": {},
   "outputs": [],
   "source": [
    "##Method1: Using iterative loop and Queue"
   ]
  },
  {
   "cell_type": "code",
   "execution_count": 3,
   "metadata": {},
   "outputs": [],
   "source": [
    "#Time Complexity: O(n) Times and \n",
    "##Space Complexity: O(n) Space\n",
    "def invertBinaryTree(tree):\n",
    "    queue = [tree]\n",
    "    while len(queue):\n",
    "        currentNode = queue.pop(0)\n",
    "        if currentNode is None:\n",
    "            continue\n",
    "        swapLeftAndRight(currentNode)\n",
    "        queue.append(currentNode.left)\n",
    "        queue.append(currentNode.right)\n",
    "    \n",
    "def swapLeftAndRight(tree):\n",
    "    tree.left, tree.right = tree.right, tree.left\n",
    "    \n",
    "        \n",
    "    "
   ]
  },
  {
   "cell_type": "code",
   "execution_count": 4,
   "metadata": {},
   "outputs": [],
   "source": [
    "##Method2: Using Recurssive Method"
   ]
  },
  {
   "cell_type": "code",
   "execution_count": 6,
   "metadata": {},
   "outputs": [],
   "source": [
    "#Time Complexity: O(n) Times and \n",
    "##Space Complexity: O(d) Space, where d is the depth of a tree\n",
    "def invertBinaryTree1(tree):\n",
    "    if tree is None:\n",
    "        return\n",
    "    swapLeftAndRight(tree)\n",
    "    invertBinaryTree(tree.left)\n",
    "    invertBinaryTree(tree.right)\n",
    "    \n",
    "def swapLeftAndRight(tree):\n",
    "    tree.left, tree.right = tree.right, tree.left"
   ]
  },
  {
   "cell_type": "code",
   "execution_count": null,
   "metadata": {},
   "outputs": [],
   "source": []
  }
 ],
 "metadata": {
  "kernelspec": {
   "display_name": "Python 3",
   "language": "python",
   "name": "python3"
  },
  "language_info": {
   "codemirror_mode": {
    "name": "ipython",
    "version": 3
   },
   "file_extension": ".py",
   "mimetype": "text/x-python",
   "name": "python",
   "nbconvert_exporter": "python",
   "pygments_lexer": "ipython3",
   "version": "3.7.4"
  }
 },
 "nbformat": 4,
 "nbformat_minor": 2
}

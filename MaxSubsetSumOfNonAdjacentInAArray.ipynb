{
 "cells": [
  {
   "cell_type": "code",
   "execution_count": null,
   "metadata": {},
   "outputs": [],
   "source": [
    "##Method1: Using array to hold values of maxsums"
   ]
  },
  {
   "cell_type": "code",
   "execution_count": 6,
   "metadata": {},
   "outputs": [],
   "source": [
    "#Time Complexity: O(n) Times and \n",
    "##Space Complexity: O(n) Space\n",
    "def maxSubsetSumNoAdjacent(array):\n",
    "    if not len(array):\n",
    "        return 0\n",
    "    elif len(array) == 1:\n",
    "        return array[0]\n",
    "    maxSums = array[:]\n",
    "    maxSums[1] = max(array[0],array[1])\n",
    "    for i in range(2,len(array)):\n",
    "        maxSums[i] = max(maxSums[i-1], maxSums[i-2] + array[i])\n",
    "        \n",
    "    return maxSums[-1]       \n",
    "    "
   ]
  },
  {
   "cell_type": "code",
   "execution_count": 7,
   "metadata": {},
   "outputs": [
    {
     "name": "stdout",
     "output_type": "stream",
     "text": [
      "29\n"
     ]
    }
   ],
   "source": [
    "print(maxSubsetSumNoAdjacent([1,7,20,4,8]))"
   ]
  },
  {
   "cell_type": "code",
   "execution_count": 8,
   "metadata": {},
   "outputs": [],
   "source": [
    "##Method2:"
   ]
  },
  {
   "cell_type": "code",
   "execution_count": 9,
   "metadata": {},
   "outputs": [],
   "source": [
    "#Time Complexity: O(n) Times and \n",
    "##Space Complexity: O(1) Space\n",
    "def maxSubsetSumNoAdjacent1(array):\n",
    "    if not len(array):\n",
    "        return 0\n",
    "    elif len(array) == 1:\n",
    "        return array[0]\n",
    "    second = array[0]\n",
    "    first = max(array[0], array[1])\n",
    "    for i in range(2,len(array)) :\n",
    "        currentSum = max(first,second+array[i])\n",
    "        second = first\n",
    "        first = currentSum\n",
    "    return first"
   ]
  },
  {
   "cell_type": "code",
   "execution_count": 10,
   "metadata": {},
   "outputs": [
    {
     "name": "stdout",
     "output_type": "stream",
     "text": [
      "37\n"
     ]
    }
   ],
   "source": [
    "print(maxSubsetSumNoAdjacent1([10,4,7,9,20,14]))"
   ]
  },
  {
   "cell_type": "code",
   "execution_count": null,
   "metadata": {},
   "outputs": [],
   "source": []
  }
 ],
 "metadata": {
  "kernelspec": {
   "display_name": "Python 3",
   "language": "python",
   "name": "python3"
  },
  "language_info": {
   "codemirror_mode": {
    "name": "ipython",
    "version": 3
   },
   "file_extension": ".py",
   "mimetype": "text/x-python",
   "name": "python",
   "nbconvert_exporter": "python",
   "pygments_lexer": "ipython3",
   "version": "3.7.4"
  }
 },
 "nbformat": 4,
 "nbformat_minor": 2
}
